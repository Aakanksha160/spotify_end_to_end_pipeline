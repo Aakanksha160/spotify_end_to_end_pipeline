{
 "cells": [
  {
   "cell_type": "code",
   "execution_count": null,
   "id": "83ff8702-c5d7-4ef5-b7f6-b031c2ed8d9f",
   "metadata": {},
   "outputs": [],
   "source": [
    "import json\n",
    "import os\n",
    "import spotipy\n",
    "from spotipy.oauth2 import SpotifyClientCredentials\n",
    "import boto3\n",
    "from datetime import datetime\n",
    "\n",
    "def lambda_handler(event, context):\n",
    "    client_id = os.environ.get('client_id')\n",
    "    client_secret = os.environ.get('client_secret')\n",
    "\n",
    "    client_credentials_manager = SpotifyClientCredentials(client_id=client_id, client_secret=client_secret)\n",
    "    sp = spotipy.Spotify(client_credentials_manager=client_credentials_manager)\n",
    "\n",
    "    playlist_link = \"https://open.spotify.com/playlist/37i9dQZEVXbNG2KDcFcKOF\"\n",
    "    playlist_URI = playlist_link.split(\"/\")[-1]\n",
    "\n",
    "    spotify_data = sp.playlist_tracks(playlist_URI)\n",
    "\n",
    "    client = boto3.client('s3')\n",
    "\n",
    "    filename = \"spotify_raw_\" + datetime.now().strftime(\"%Y-%m-%d_%H-%M-%S\") + \".json\"\n",
    "    s3_key = f\"raw_data/to_processed/{filename}\"\n",
    "    \n",
    "    # Logging the full path for debugging\n",
    "    print(\"Uploading file to S3 with Key:\", s3_key)\n",
    "\n",
    "    client.put_object(\n",
    "        Bucket=\"spotify-etl-pipeline-aakanksha\",\n",
    "        Key=s3_key,\n",
    "        Body=json.dumps(spotify_data)\n",
    "    )\n",
    "    return {\"statusCode\": 200, \"body\": json.dumps(\"File uploaded successfully\")}\n"
   ]
  }
 ],
 "metadata": {
  "kernelspec": {
   "display_name": "Python 3 (ipykernel)",
   "language": "python",
   "name": "python3"
  },
  "language_info": {
   "codemirror_mode": {
    "name": "ipython",
    "version": 3
   },
   "file_extension": ".py",
   "mimetype": "text/x-python",
   "name": "python",
   "nbconvert_exporter": "python",
   "pygments_lexer": "ipython3",
   "version": "3.13.0"
  }
 },
 "nbformat": 4,
 "nbformat_minor": 5
}
